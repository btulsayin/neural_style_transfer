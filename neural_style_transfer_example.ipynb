{
  "nbformat": 4,
  "nbformat_minor": 0,
  "metadata": {
    "colab": {
      "name": "neural-style_transfer-example.ipynb",
      "version": "0.3.2",
      "views": {},
      "default_view": {},
      "provenance": [],
      "collapsed_sections": []
    },
    "kernelspec": {
      "name": "python3",
      "display_name": "Python 3"
    }
  },
  "cells": [
    {
      "metadata": {
        "id": "Rg-wh-aRQR9t",
        "colab_type": "text"
      },
      "cell_type": "markdown",
      "source": [
        "**Nöral Stil Aktarımı**\n",
        "Nöral stil aktarımı, bir referans görüntünün stilini bir hedefe uygulamaktan oluşur. Stil transferi (style transfer) gibi işlemlerle ünlü ressamların tarzlarıyla yeni resimler çizilmesi ve atın zebraya dönüştürülmesi gibi örnekler yapilabilir. Örnek verecek olursak günümüz mobil uygulamalarından olan  \"Prisma\" adlı mobil uygulama nöral stil aktarımı tabanlıdır. Uygulama; \"Pablo Picasso, Edvard Munch ve Vincent Van Gogh\" gibi ünlü sanatçıların sanat stillerini ve diğer sanat eserlerini almak için yapay zeka ve konvolüsyonel sinir ağları adlı bir derin öğrenme yöntemini kullanır ve sadece son resmin oluşturulmasında rehberlik için orijinal resme başvurur."
      ]
    },
    {
      "metadata": {
        "id": "dmvJGSfH6LNy",
        "colab_type": "code",
        "colab": {
          "autoexec": {
            "startup": false,
            "wait_interval": 0
          }
        }
      },
      "cell_type": "code",
      "source": [
        "#Kullanilacak resimler drive üzerinden alınacak. Bu nedenle colab-drive bağlantısı yapılır. \n",
        "!apt-get install -y -qq software-properties-common python-software-properties module-init-tools\n",
        "!add-apt-repository -y ppa:alessandro-strada/ppa 2>&1 > /dev/null\n",
        "!apt-get update -qq 2>&1 > /dev/null\n",
        "!apt-get -y install -qq google-drive-ocamlfuse fuse\n",
        "from google.colab import auth\n",
        "auth.authenticate_user()\n",
        "from oauth2client.client import GoogleCredentials\n",
        "creds = GoogleCredentials.get_application_default()\n",
        "import getpass\n",
        "!google-drive-ocamlfuse -headless -id={creds.client_id} -secret={creds.client_secret} < /dev/null 2>&1 | grep URL\n",
        "vcode = getpass.getpass()\n",
        "!echo {vcode} | google-drive-ocamlfuse -headless -id={creds.client_id} -secret={creds.client_secret}"
      ],
      "execution_count": 0,
      "outputs": []
    },
    {
      "metadata": {
        "id": "kh88ypHv6wpI",
        "colab_type": "code",
        "colab": {
          "autoexec": {
            "startup": false,
            "wait_interval": 0
          }
        }
      },
      "cell_type": "code",
      "source": [
        "!mkdir -p drive\n",
        "!google-drive-ocamlfuse drive"
      ],
      "execution_count": 0,
      "outputs": []
    },
    {
      "metadata": {
        "id": "PWCiPgaP7cZK",
        "colab_type": "code",
        "colab": {
          "autoexec": {
            "startup": false,
            "wait_interval": 0
          },
          "base_uri": "https://localhost:8080/",
          "height": 34
        },
        "outputId": "3f521d08-80cd-4c67-8877-ba334ac715dc",
        "executionInfo": {
          "status": "ok",
          "timestamp": 1533725733627,
          "user_tz": -180,
          "elapsed": 1153,
          "user": {
            "displayName": "Betül ÇİL",
            "photoUrl": "//lh5.googleusercontent.com/-AHpS9QRyJic/AAAAAAAAAAI/AAAAAAAAD8c/3FEu9GglbWA/s50-c-k-no/photo.jpg",
            "userId": "103321578928368428418"
          }
        }
      },
      "cell_type": "code",
      "source": [
        "import keras,os\n",
        "keras.__version__"
      ],
      "execution_count": 2,
      "outputs": [
        {
          "output_type": "execute_result",
          "data": {
            "text/plain": [
              "'2.1.6'"
            ]
          },
          "metadata": {
            "tags": []
          },
          "execution_count": 2
        }
      ]
    },
    {
      "metadata": {
        "id": "k37uhD7k7d7S",
        "colab_type": "code",
        "colab": {
          "autoexec": {
            "startup": false,
            "wait_interval": 0
          }
        }
      },
      "cell_type": "code",
      "source": [
        "from keras.preprocessing.image import load_img, img_to_array"
      ],
      "execution_count": 0,
      "outputs": []
    },
    {
      "metadata": {
        "id": "_mvxtTHG7pUK",
        "colab_type": "code",
        "colab": {
          "autoexec": {
            "startup": false,
            "wait_interval": 0
          },
          "base_uri": "https://localhost:8080/",
          "height": 51
        },
        "outputId": "e82a42fc-d59d-49f7-be99-bbbbd98de2d9",
        "executionInfo": {
          "status": "ok",
          "timestamp": 1533725743858,
          "user_tz": -180,
          "elapsed": 6400,
          "user": {
            "displayName": "Betül ÇİL",
            "photoUrl": "//lh5.googleusercontent.com/-AHpS9QRyJic/AAAAAAAAAAI/AAAAAAAAD8c/3FEu9GglbWA/s50-c-k-no/photo.jpg",
            "userId": "103321578928368428418"
          }
        }
      },
      "cell_type": "code",
      "source": [
        "# Bu, donusturmek istediğiniz resmin yoludur.\n",
        "target_image_path = os.path.join(\"/content/drive\", \"Colab Notebooks\", \"neural_style_transfer\", \"image2.jpg\")\n",
        "print(target_image_path)\n",
        "# Bu, stil resminin yoludur.\n",
        "style_reference_image_path = os.path.join(\"/content/drive\", \"Colab Notebooks\", \"neural_style_transfer\", \"style2.jpg\")\n",
        "print(style_reference_image_path)\n",
        "# Oluşturulan resmin boyutları\n",
        "width, height = load_img(target_image_path).size\n",
        "img_height = 400\n",
        "img_width = int(width * img_height / height)"
      ],
      "execution_count": 4,
      "outputs": [
        {
          "output_type": "stream",
          "text": [
            "/content/drive/Colab Notebooks/neural_style_transfer/portrait.png\n",
            "/content/drive/Colab Notebooks/neural_style_transfer/popova.jpg\n"
          ],
          "name": "stdout"
        }
      ]
    },
    {
      "metadata": {
        "id": "kXj8VZvzKudD",
        "colab_type": "code",
        "colab": {
          "autoexec": {
            "startup": false,
            "wait_interval": 0
          }
        }
      },
      "cell_type": "code",
      "source": [
        "import numpy as np\n",
        "from keras.applications import vgg19\n",
        "\n",
        "def preprocess_image(image_path):\n",
        "    img = load_img(image_path, target_size=(img_height, img_width))\n",
        "    img = img_to_array(img)\n",
        "    img = np.expand_dims(img, axis=0)\n",
        "    img = vgg19.preprocess_input(img)\n",
        "    return img\n",
        "\n",
        "def deprocess_image(x):\n",
        "    # Sıfır merkezini ortalama piksele göre kaldırın\n",
        "    x[:, :, 0] += 103.939\n",
        "    x[:, :, 1] += 116.779\n",
        "    x[:, :, 2] += 123.68\n",
        "    # 'BGR'->'RGB' donusumu yapilir.\n",
        "    x = x[:, :, ::-1]\n",
        "    x = np.clip(x, 0, 255).astype('uint8')\n",
        "    return x"
      ],
      "execution_count": 0,
      "outputs": []
    },
    {
      "metadata": {
        "id": "03NjpT65KyWz",
        "colab_type": "code",
        "colab": {
          "autoexec": {
            "startup": false,
            "wait_interval": 0
          },
          "base_uri": "https://localhost:8080/",
          "height": 34
        },
        "outputId": "d50fef83-210a-44e8-9050-086249fc0eef",
        "executionInfo": {
          "status": "ok",
          "timestamp": 1533725760818,
          "user_tz": -180,
          "elapsed": 9498,
          "user": {
            "displayName": "Betül ÇİL",
            "photoUrl": "//lh5.googleusercontent.com/-AHpS9QRyJic/AAAAAAAAAAI/AAAAAAAAD8c/3FEu9GglbWA/s50-c-k-no/photo.jpg",
            "userId": "103321578928368428418"
          }
        }
      },
      "cell_type": "code",
      "source": [
        "from keras import backend as K\n",
        "\n",
        "target_image = K.constant(preprocess_image(target_image_path))\n",
        "style_reference_image = K.constant(preprocess_image(style_reference_image_path))\n",
        "\n",
        "# Bu yer tutucu, oluşturduğumuz resmi içerecek\n",
        "combination_image = K.placeholder((1, img_height, img_width, 3))\n",
        "\n",
        "#3 görüntüyü birleştiriyoruz\n",
        "input_tensor = K.concatenate([target_image,\n",
        "                              style_reference_image,\n",
        "                              combination_image], axis=0)\n",
        "\n",
        "# VGG19 ağını 3 resim grubumuzla girdi olarak oluşturuyoruz.\n",
        "# Model, önceden eğitilmiş ImageNet ağırlıklarıyla yüklenir.\n",
        "model = vgg19.VGG19(input_tensor=input_tensor,\n",
        "                    weights='imagenet',\n",
        "                    include_top=False)\n",
        "print('Model yüklendi.')"
      ],
      "execution_count": 6,
      "outputs": [
        {
          "output_type": "stream",
          "text": [
            "Model yüklendi.\n"
          ],
          "name": "stdout"
        }
      ]
    },
    {
      "metadata": {
        "id": "YWrbjR53K5X2",
        "colab_type": "code",
        "colab": {
          "autoexec": {
            "startup": false,
            "wait_interval": 0
          }
        }
      },
      "cell_type": "code",
      "source": [
        "#icerik kaybi methodu\n",
        "def content_loss(base, combination):\n",
        "    return K.sum(K.square(combination - base))"
      ],
      "execution_count": 0,
      "outputs": []
    },
    {
      "metadata": {
        "id": "Ja4gFG1xK8Pf",
        "colab_type": "code",
        "colab": {
          "autoexec": {
            "startup": false,
            "wait_interval": 0
          }
        }
      },
      "cell_type": "code",
      "source": [
        "#stil kaybı için gram matris kullanilir\n",
        "def gram_matrix(x):\n",
        "    features = K.batch_flatten(K.permute_dimensions(x, (2, 0, 1)))\n",
        "    gram = K.dot(features, K.transpose(features))\n",
        "    return gram\n",
        "\n",
        "\n",
        "def style_loss(style, combination):\n",
        "    S = gram_matrix(style)\n",
        "    C = gram_matrix(combination)\n",
        "    channels = 3\n",
        "    size = img_height * img_width\n",
        "    return K.sum(K.square(S - C)) / (4. * (channels ** 2) * (size ** 2))"
      ],
      "execution_count": 0,
      "outputs": []
    },
    {
      "metadata": {
        "id": "CQfbPoi0K_XT",
        "colab_type": "code",
        "colab": {
          "autoexec": {
            "startup": false,
            "wait_interval": 0
          }
        }
      },
      "cell_type": "code",
      "source": [
        "def total_variation_loss(x):\n",
        "    a = K.square(\n",
        "        x[:, :img_height - 1, :img_width - 1, :] - x[:, 1:, :img_width - 1, :])\n",
        "    b = K.square(\n",
        "        x[:, :img_height - 1, :img_width - 1, :] - x[:, :img_height - 1, 1:, :])\n",
        "    return K.sum(K.pow(a + b, 1.25))"
      ],
      "execution_count": 0,
      "outputs": []
    },
    {
      "metadata": {
        "id": "KpvH3IYSLCw1",
        "colab_type": "code",
        "colab": {
          "autoexec": {
            "startup": false,
            "wait_interval": 0
          }
        }
      },
      "cell_type": "code",
      "source": [
        "# Katman adlarını etkinleştirme tensörlerine eşleme\n",
        "outputs_dict = dict([(layer.name, layer.output) for layer in model.layers])\n",
        "# İçerik kaybı için kullanılan katmanın adı\n",
        "content_layer = 'block5_conv2'\n",
        "# Stil kaybı için kullanılan katmanların adı\n",
        "style_layers = ['block1_conv1',\n",
        "                'block2_conv1',\n",
        "                'block3_conv1',\n",
        "                'block4_conv1',\n",
        "                'block5_conv1']\n",
        "# Kayıp bileşenlerinin ağırlıklı ortalama ağırlıkları\n",
        "total_variation_weight = 1e-4\n",
        "style_weight = 1.\n",
        "content_weight = 0.025\n",
        "\n",
        "#Tum bileşenleri bir `loss` değişkenine ekleyerek kayıp tanımlanir\n",
        "loss = K.variable(0.)\n",
        "layer_features = outputs_dict[content_layer]\n",
        "target_image_features = layer_features[0, :, :, :]\n",
        "combination_features = layer_features[2, :, :, :]\n",
        "loss += content_weight * content_loss(target_image_features,\n",
        "                                      combination_features)\n",
        "#her hedef katman için bir stil kaybi bileseni ekler.\n",
        "for layer_name in style_layers:\n",
        "    layer_features = outputs_dict[layer_name]\n",
        "    style_reference_features = layer_features[1, :, :, :]\n",
        "    combination_features = layer_features[2, :, :, :]\n",
        "    sl = style_loss(style_reference_features, combination_features)\n",
        "    loss += (style_weight / len(style_layers)) * sl\n",
        "#toplam varyasyon kaybini ekler\n",
        "loss += total_variation_weight * total_variation_loss(combination_image)"
      ],
      "execution_count": 0,
      "outputs": []
    },
    {
      "metadata": {
        "id": "jDdNElQGLHGr",
        "colab_type": "code",
        "colab": {
          "autoexec": {
            "startup": false,
            "wait_interval": 0
          }
        }
      },
      "cell_type": "code",
      "source": [
        "# Oluşturulan görüntünün gradyanlarını kaybı\n",
        "grads = K.gradients(loss, combination_image)[0]\n",
        "\n",
        "# Mevcut kayıp ve akım gradyanlarının değerlerini almak için fonksiyon\n",
        "fetch_loss_and_grads = K.function([combination_image], [loss, grads])\n",
        "\n",
        "\n",
        "class Evaluator(object):\n",
        "\n",
        "    def __init__(self):\n",
        "        self.loss_value = None\n",
        "        self.grads_values = None\n",
        "\n",
        "    def loss(self, x):\n",
        "        assert self.loss_value is None\n",
        "        x = x.reshape((1, img_height, img_width, 3))\n",
        "        #fetch_loss_and_grads kayiplari geri almanizi saglayacak sekilde arar\n",
        "        outs = fetch_loss_and_grads([x])\n",
        "        loss_value = outs[0]\n",
        "        grad_values = outs[1].flatten().astype('float64')\n",
        "        self.loss_value = loss_value\n",
        "        self.grad_values = grad_values\n",
        "        return self.loss_value\n",
        "\n",
        "    def grads(self, x):\n",
        "        assert self.loss_value is not None\n",
        "        grad_values = np.copy(self.grad_values)\n",
        "        self.loss_value = None\n",
        "        self.grad_values = None\n",
        "        return grad_values\n",
        "\n",
        "evaluator = Evaluator()"
      ],
      "execution_count": 0,
      "outputs": []
    },
    {
      "metadata": {
        "id": "6JCnNyC4LLmi",
        "colab_type": "code",
        "colab": {
          "autoexec": {
            "startup": false,
            "wait_interval": 0
          },
          "base_uri": "https://localhost:8080/",
          "height": 1355
        },
        "outputId": "cf9f1af9-0c66-44e3-9227-7e53838b3403",
        "executionInfo": {
          "status": "ok",
          "timestamp": 1533669002693,
          "user_tz": -180,
          "elapsed": 5573171,
          "user": {
            "displayName": "Betül ÇİL",
            "photoUrl": "//lh5.googleusercontent.com/-AHpS9QRyJic/AAAAAAAAAAI/AAAAAAAAD8c/3FEu9GglbWA/s50-c-k-no/photo.jpg",
            "userId": "103321578928368428418"
          }
        }
      },
      "cell_type": "code",
      "source": [
        "from scipy.optimize import fmin_l_bfgs_b\n",
        "from scipy.misc import imsave\n",
        "import time\n",
        "\n",
        "result_prefix = 'style_transfer_result'\n",
        "iterations = 20\n",
        "\n",
        "# Nöral stil kaybını en aza indirmek için oluşturulan görüntünün pikselleri üzerinde scipy tabanlı optimizasyonu (L-BFGS) çalıştırılır\n",
        "# Bu bizim başlangıç durumumuz: hedef imaj.\n",
        "x = preprocess_image(target_image_path)\n",
        "#görüntüyü düzlestirir\n",
        "#Cunku Scipy.optimize.fmin_l_bfgs_b` nin sadece düz vektörleri işleyebilir\n",
        "x = x.flatten()\n",
        "for i in range(iterations):\n",
        "    print('Start of iteration', i)\n",
        "    start_time = time.time()\n",
        "    x, min_val, info = fmin_l_bfgs_b(evaluator.loss, x,\n",
        "                                     fprime=evaluator.grads, maxfun=20)\n",
        "    #noral stil kaybini en z-aza indirmek için olusan piksellerin üzerinde fmin_l_bfgs_b calistirilir.\n",
        "    print('Current loss value:', min_val)\n",
        "    # Mevcut oluşturulan resmi kaydet\n",
        "    img = x.copy().reshape((img_height, img_width, 3))\n",
        "    img = deprocess_image(img)\n",
        "    fname = result_prefix + '_at_iteration_%d.png' % i\n",
        "    imsave(fname, img)\n",
        "    end_time = time.time()\n",
        "    print('Image saved as', fname)\n",
        "    print('Iteration %d completed in %ds' % (i, end_time - start_time))"
      ],
      "execution_count": 54,
      "outputs": [
        {
          "output_type": "stream",
          "text": [
            "Start of iteration 0\n",
            "Current loss value: 11603254000.0\n",
            "Image saved as style_transfer_result_at_iteration_0.png\n",
            "Iteration 0 completed in 267s\n",
            "Start of iteration 1\n",
            "Current loss value: 4385868300.0\n",
            "Image saved as style_transfer_result_at_iteration_1.png\n",
            "Iteration 1 completed in 264s\n",
            "Start of iteration 2\n",
            "Current loss value: 2734194200.0\n",
            "Image saved as style_transfer_result_at_iteration_2.png\n",
            "Iteration 2 completed in 265s\n",
            "Start of iteration 3\n",
            "Current loss value: 1983815200.0\n",
            "Image saved as style_transfer_result_at_iteration_3.png\n",
            "Iteration 3 completed in 267s\n",
            "Start of iteration 4\n",
            "Current loss value: 1609425900.0\n",
            "Image saved as style_transfer_result_at_iteration_4.png\n",
            "Iteration 4 completed in 263s\n",
            "Start of iteration 5\n",
            "Current loss value: 1362422100.0\n",
            "Image saved as style_transfer_result_at_iteration_5.png\n",
            "Iteration 5 completed in 275s\n",
            "Start of iteration 6\n",
            "Current loss value: 1182633700.0\n",
            "Image saved as style_transfer_result_at_iteration_6.png\n",
            "Iteration 6 completed in 259s\n",
            "Start of iteration 7\n",
            "Current loss value: 1056936060.0\n",
            "Image saved as style_transfer_result_at_iteration_7.png\n",
            "Iteration 7 completed in 262s\n",
            "Start of iteration 8\n",
            "Current loss value: 961723900.0\n",
            "Image saved as style_transfer_result_at_iteration_8.png\n",
            "Iteration 8 completed in 278s\n",
            "Start of iteration 9\n",
            "Current loss value: 888915260.0\n",
            "Image saved as style_transfer_result_at_iteration_9.png\n",
            "Iteration 9 completed in 304s\n",
            "Start of iteration 10\n",
            "Current loss value: 830315800.0\n",
            "Image saved as style_transfer_result_at_iteration_10.png\n",
            "Iteration 10 completed in 283s\n",
            "Start of iteration 11\n",
            "Current loss value: 778031500.0\n",
            "Image saved as style_transfer_result_at_iteration_11.png\n",
            "Iteration 11 completed in 282s\n",
            "Start of iteration 12\n",
            "Current loss value: 732867400.0\n",
            "Image saved as style_transfer_result_at_iteration_12.png\n",
            "Iteration 12 completed in 281s\n",
            "Start of iteration 13\n",
            "Current loss value: 693587460.0\n",
            "Image saved as style_transfer_result_at_iteration_13.png\n",
            "Iteration 13 completed in 283s\n",
            "Start of iteration 14\n",
            "Current loss value: 662788030.0\n",
            "Image saved as style_transfer_result_at_iteration_14.png\n",
            "Iteration 14 completed in 287s\n",
            "Start of iteration 15\n",
            "Current loss value: 636957900.0\n",
            "Image saved as style_transfer_result_at_iteration_15.png\n",
            "Iteration 15 completed in 287s\n",
            "Start of iteration 16\n",
            "Current loss value: 605987600.0\n",
            "Image saved as style_transfer_result_at_iteration_16.png\n",
            "Iteration 16 completed in 288s\n",
            "Start of iteration 17\n",
            "Current loss value: 585082000.0\n",
            "Image saved as style_transfer_result_at_iteration_17.png\n",
            "Iteration 17 completed in 291s\n",
            "Start of iteration 18\n",
            "Current loss value: 558547260.0\n",
            "Image saved as style_transfer_result_at_iteration_18.png\n",
            "Iteration 18 completed in 293s\n",
            "Start of iteration 19\n",
            "Current loss value: 536974800.0\n",
            "Image saved as style_transfer_result_at_iteration_19.png\n",
            "Iteration 19 completed in 285s\n"
          ],
          "name": "stdout"
        }
      ]
    },
    {
      "metadata": {
        "id": "iCpnxHb63uKV",
        "colab_type": "code",
        "colab": {
          "autoexec": {
            "startup": false,
            "wait_interval": 0
          }
        }
      },
      "cell_type": "code",
      "source": [
        "from matplotlib import pyplot as plt\n",
        "\n",
        "#İçerik resmi\n",
        "plt.imshow(load_img(target_image_path, target_size=(img_height, img_width)))\n",
        "plt.figure()\n",
        "\n",
        "# Stil görüntü\n",
        "plt.imshow(load_img(style_reference_image_path, target_size=(img_height, img_width)))\n",
        "plt.figure()\n",
        "\n",
        "# Oluşan görüntü\n",
        "plt.imshow(img)\n",
        "plt.show()"
      ],
      "execution_count": 0,
      "outputs": []
    }
  ]
}